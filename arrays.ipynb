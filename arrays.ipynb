{
 "cells": [
  {
   "cell_type": "code",
   "execution_count": 2,
   "metadata": {},
   "outputs": [
    {
     "data": {
      "text/plain": [
       "True"
      ]
     },
     "execution_count": 2,
     "metadata": {},
     "output_type": "execute_result"
    }
   ],
   "source": [
    "## 1. Given an array, check if it contains any duplicates or not.\n",
    "def check(list1:list):\n",
    "    for i in range(0,len(list1)):\n",
    "     for j in range(i+1,len(list1)):\n",
    "        if list1[i]==list1[j]:\n",
    "           return True\n",
    "    return False\n",
    "list1=[1,2,3,4,5,6,6]\n",
    "check(list1)"
   ]
  },
  {
   "cell_type": "code",
   "execution_count": 4,
   "metadata": {},
   "outputs": [
    {
     "data": {
      "text/plain": [
       "[5, 6, 7, 1, 2, 3]"
      ]
     },
     "execution_count": 4,
     "metadata": {},
     "output_type": "execute_result"
    }
   ],
   "source": [
    "## 2. Given an array and an integer k, rotate the array to the right by k steps.\n",
    "# arr = [1, 2, 3, 4, 5, 6, 7] k = 3\n",
    "# Output = [5, 6, 7, 1, 2, 3, 4]\n",
    "def rotate(list1:list,steps):\n",
    "    n=len(list1)\n",
    "    steps=steps%n\n",
    "    list1=list1[-steps:]+list1[:steps]\n",
    "    return list1\n",
    "list1 = [1, 2, 3, 4, 5, 6, 7]\n",
    "rotate(list1,3)"
   ]
  },
  {
   "cell_type": "code",
   "execution_count": 5,
   "metadata": {},
   "outputs": [
    {
     "name": "stdout",
     "output_type": "stream",
     "text": [
      "[12, 9, 7, 5, 4, 2]\n"
     ]
    }
   ],
   "source": [
    "# 3. Reverse the given array in-place, means without using any extra data structure.\n",
    "# arr = [2, 4, 5, 7, 9, 12]\n",
    "# Output = [12, 9, 7, 5, 4, 2]\n",
    "def reverse(list1):\n",
    "    left=0\n",
    "    right=len(list1)-1\n",
    "    while left< right:\n",
    "        list1[left],list1[right]=list1[right],list1[left]\n",
    "        left+=1\n",
    "        right-=1\n",
    "    return list1\n",
    "print(reverse([2, 4, 5, 7, 9, 12]))"
   ]
  },
  {
   "cell_type": "code",
   "execution_count": 8,
   "metadata": {},
   "outputs": [
    {
     "data": {
      "text/plain": [
       "20"
      ]
     },
     "execution_count": 8,
     "metadata": {},
     "output_type": "execute_result"
    }
   ],
   "source": [
    "#4. Given an array of integers, find the maximum element in an array\n",
    "# arr = [10, 5, 20, 8, 15]\n",
    "# Output = 20\n",
    "def maximum(list1:list):\n",
    "        max_value=list1[0]\n",
    "        for i in range(1, len(list1)):\n",
    "         if list1[i] > max_value:\n",
    "            max_value = list1[i] \n",
    "        return max_value\n",
    "maximum([10, 5, 20, 8, 15])\n"
   ]
  },
  {
   "cell_type": "code",
   "execution_count": 9,
   "metadata": {},
   "outputs": [
    {
     "data": {
      "text/plain": [
       "[1, 2, 3, 4, 5]"
      ]
     },
     "execution_count": 9,
     "metadata": {},
     "output_type": "execute_result"
    }
   ],
   "source": [
    "## 5. Given a sorted array, remove the duplicate element without using any extra data structure.\n",
    "arr = [1, 1, 2, 2, 2, 3, 3, 4, 4, 4, 5, 5]\n",
    "# Output = [1, 2, 3, 4, 5]\n",
    "def remove_duplicates(arr):\n",
    "    j = 0\n",
    "\n",
    "    for i in range(1, len(arr)):\n",
    "        if arr[i] != arr[j]:\n",
    "            j += 1\n",
    "            arr[j] = arr[i]\n",
    "\n",
    "    return arr[:j+1]\n",
    "remove_duplicates(arr)"
   ]
  }
 ],
 "metadata": {
  "kernelspec": {
   "display_name": "Python 3",
   "language": "python",
   "name": "python3"
  },
  "language_info": {
   "codemirror_mode": {
    "name": "ipython",
    "version": 3
   },
   "file_extension": ".py",
   "mimetype": "text/x-python",
   "name": "python",
   "nbconvert_exporter": "python",
   "pygments_lexer": "ipython3",
   "version": "3.9.6"
  }
 },
 "nbformat": 4,
 "nbformat_minor": 2
}
